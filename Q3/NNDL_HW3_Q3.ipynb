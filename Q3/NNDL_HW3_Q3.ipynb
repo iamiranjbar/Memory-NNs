{
  "nbformat": 4,
  "nbformat_minor": 0,
  "metadata": {
    "colab": {
      "name": "NNDL HW3 Q3.ipynb",
      "provenance": [],
      "collapsed_sections": []
    },
    "kernelspec": {
      "name": "python3",
      "display_name": "Python 3"
    },
    "language_info": {
      "name": "python"
    }
  },
  "cells": [
    {
      "cell_type": "markdown",
      "metadata": {
        "id": "3-hP-hf6bfL4"
      },
      "source": [
        "# Problem 3 (Hopfield Network)"
      ]
    },
    {
      "cell_type": "markdown",
      "metadata": {
        "id": "Fp9WJO_5gUxj"
      },
      "source": [
        "# Import libraries"
      ]
    },
    {
      "cell_type": "code",
      "metadata": {
        "id": "LtHoaOBcgW9e"
      },
      "source": [
        "import math\n",
        "import random\n",
        "import numpy as np\n",
        "import matplotlib.pyplot as plt"
      ],
      "execution_count": 139,
      "outputs": []
    },
    {
      "cell_type": "markdown",
      "metadata": {
        "id": "tn7lajcJbeOv"
      },
      "source": [
        "## Hopfield network class"
      ]
    },
    {
      "cell_type": "code",
      "metadata": {
        "id": "DEVJCM5dbuyF"
      },
      "source": [
        "class HopfieldNetwork:\n",
        "\n",
        "  def __init__(self, patterns):\n",
        "    self.memory = patterns\n",
        "    self.nodes_count = len(self.memory[0].flatten())\n",
        "    self.weights = np.zeros((self.nodes_count, self.nodes_count))\n",
        "    self.weight_matrix_initialization(patterns)\n",
        "    self.treshold = 0\n",
        "\n",
        "  def weight_matrix_initialization(self, patterns): \n",
        "    for pattern in patterns:\n",
        "      flatten_pattern = pattern.reshape((1, self.nodes_count))\n",
        "      self.weights += np.dot(np.transpose(flatten_pattern), flatten_pattern)\n",
        "    for i in range(self.nodes_count):\n",
        "      self.weights[i][i] = 0\n",
        "  \n",
        "  def predict(self, pattern):\n",
        "    seen_patterns = set()\n",
        "    flatten_pattern = pattern.flatten()\n",
        "    self.result = flatten_pattern\n",
        "    result_size = len(self.result)\n",
        "    self.result_in = np.zeros(result_size)\n",
        "\n",
        "    while True:\n",
        "      nodes_order = np.random.permutation(result_size)\n",
        "      for node in nodes_order:\n",
        "        self.result_in[node] = flatten_pattern[node] + np.dot(self.result, self.weights[:, node])\n",
        "        self.result[self.result_in > self.treshold] = 1\n",
        "        self.result[self.result_in < self.treshold] = -1\n",
        "      \n",
        "      if tuple(self.result) in seen_patterns:\n",
        "        print('See old pattern... No memory :(')\n",
        "        return self.result.reshape((self.memory[0].shape[0], self.memory[0].shape[1])), False\n",
        "      \n",
        "      for memorise_pattern in self.memory:\n",
        "        if (memorise_pattern.flatten() == self.result).all():\n",
        "          print('I remember =))')\n",
        "          return memorise_pattern, True\n",
        "      \n",
        "      seen_patterns.add(tuple(self.result))"
      ],
      "execution_count": 140,
      "outputs": []
    },
    {
      "cell_type": "markdown",
      "metadata": {
        "id": "RQKzI8bcpMTX"
      },
      "source": [
        "### Show matrix function"
      ]
    },
    {
      "cell_type": "code",
      "metadata": {
        "id": "CI40cgFdpXiE"
      },
      "source": [
        "def show_result(matrix, pattern_found=None):\n",
        "  if pattern_found is not None:\n",
        "    if not pattern_found:\n",
        "      print(\"Best achieved:\")\n",
        "    else:\n",
        "      print(\"Result:\")\n",
        "  for i in range(matrix.shape[0]):\n",
        "    for j in range(matrix.shape[1]):\n",
        "      if matrix[i][j] == 1:\n",
        "        print(\"#\", end=\"\")\n",
        "      else:\n",
        "        print(\"-\", end=\"\")\n",
        "    print(\"\")\n",
        "  print(\"___________________________\")"
      ],
      "execution_count": 141,
      "outputs": []
    },
    {
      "cell_type": "markdown",
      "metadata": {
        "id": "ip6RrnyRbaF8"
      },
      "source": [
        "## Test pure patterns"
      ]
    },
    {
      "cell_type": "code",
      "metadata": {
        "id": "jFwj-ktKbnCr",
        "colab": {
          "base_uri": "https://localhost:8080/"
        },
        "outputId": "67156bc1-25f1-4a98-b699-1472cf14c367"
      },
      "source": [
        "zero_pattern = np.array([[1,1, 1, 1, 1, 1,1,1],\n",
        "                         [1,1, 1, 1, 1, 1,1,1],\n",
        "                         [1,1,-1,-1,-1,-1,1,1],\n",
        "                         [1,1,-1,-1,-1,-1,1,1],\n",
        "                         [1,1,-1,-1,-1,-1,1,1],\n",
        "                         [1,1,-1,-1,-1,-1,1,1],\n",
        "                         [1,1, 1, 1, 1, 1,1,1],\n",
        "                         [1,1, 1, 1, 1, 1,1,1]])\n",
        "one_pattern = np.array([[-1,-1, 1,1,1,-1,-1,-1],\n",
        "                        [-1,-1, 1,1,1,-1,-1,-1],\n",
        "                        [-1,-1,-1,1,1,-1,-1,-1],\n",
        "                        [-1,-1,-1,1,1,-1,-1,-1],\n",
        "                        [-1,-1,-1,1,1,-1,-1,-1],\n",
        "                        [-1,-1,-1,1,1,-1,-1,-1],\n",
        "                        [-1,-1,-1,1,1,-1,-1,-1],\n",
        "                        [-1,-1,-1,1,1,-1,-1,-1]])\n",
        "patterns = np.array([zero_pattern, one_pattern])\n",
        "hopfield = HopfieldNetwork(patterns)\n",
        "\n",
        "zero_result, pattern_found = hopfield.predict(zero_pattern)\n",
        "show_result(zero_result, pattern_found)\n",
        "\n",
        "one_result, pattern_found = hopfield.predict(one_pattern)\n",
        "show_result(one_result, pattern_found)"
      ],
      "execution_count": 142,
      "outputs": [
        {
          "output_type": "stream",
          "text": [
            "I remember =))\n",
            "Result:\n",
            "########\n",
            "########\n",
            "##----##\n",
            "##----##\n",
            "##----##\n",
            "##----##\n",
            "########\n",
            "########\n",
            "___________________________\n",
            "I remember =))\n",
            "Result:\n",
            "--###---\n",
            "--###---\n",
            "---##---\n",
            "---##---\n",
            "---##---\n",
            "---##---\n",
            "---##---\n",
            "---##---\n",
            "___________________________\n"
          ],
          "name": "stdout"
        }
      ]
    },
    {
      "cell_type": "markdown",
      "metadata": {
        "id": "SG-Ki31PbYyP"
      },
      "source": [
        "## Add noise and test network again\n",
        "\n"
      ]
    },
    {
      "cell_type": "markdown",
      "metadata": {
        "id": "Q72WDtBkuFO_"
      },
      "source": [
        "### Add noise function"
      ]
    },
    {
      "cell_type": "code",
      "metadata": {
        "id": "68V0dMQobVC_"
      },
      "source": [
        "def add_noise(pattern, noise_percentage=0.3):\n",
        "  noisy_pattern = np.copy(pattern)\n",
        "  pattern_cells = len(pattern.flatten())\n",
        "  mistaken_cells_count = math.floor(noise_percentage * pattern_cells)\n",
        "  to_change_indices = random.sample(range(pattern_cells), mistaken_cells_count)\n",
        "  for index in to_change_indices:\n",
        "    to_change_row = index // noisy_pattern.shape[1]\n",
        "    to_change_col = index % noisy_pattern.shape[1]\n",
        "    noisy_pattern[to_change_row][to_change_col] *= -1\n",
        "  return noisy_pattern"
      ],
      "execution_count": 143,
      "outputs": []
    },
    {
      "cell_type": "markdown",
      "metadata": {
        "id": "t23YgNAJyA-H"
      },
      "source": [
        "### Test network against 30% noise"
      ]
    },
    {
      "cell_type": "code",
      "metadata": {
        "colab": {
          "base_uri": "https://localhost:8080/"
        },
        "id": "IdK5MvxvxL0x",
        "outputId": "74165e80-4946-4970-8e4d-f9b8471d1dd8"
      },
      "source": [
        "noisy_zero = add_noise(zero_pattern)\n",
        "show_result(noisy_zero)\n",
        "print(\"|||||||\")\n",
        "print(\"vvvvvvv\")\n",
        "noisy_zero_result, pattern_found = hopfield.predict(noisy_zero)\n",
        "show_result(noisy_zero_result, pattern_found)\n",
        "\n",
        "noisy_one = add_noise(one_pattern)\n",
        "show_result(noisy_one)\n",
        "print(\"|||||||\")\n",
        "print(\"vvvvvvv\")\n",
        "noisy_one_result, pattern_found = hopfield.predict(noisy_one)\n",
        "show_result(noisy_one_result, pattern_found)"
      ],
      "execution_count": 144,
      "outputs": [
        {
          "output_type": "stream",
          "text": [
            "-######-\n",
            "##-#-##-\n",
            "##---##-\n",
            "-##-#-##\n",
            "-#---##-\n",
            "##--#-##\n",
            "--#-##-#\n",
            "#-######\n",
            "___________________________\n",
            "|||||||\n",
            "vvvvvvv\n",
            "I remember =))\n",
            "Result:\n",
            "########\n",
            "########\n",
            "##----##\n",
            "##----##\n",
            "##----##\n",
            "##----##\n",
            "########\n",
            "########\n",
            "___________________________\n",
            "---#-#--\n",
            "--#-----\n",
            "--#-#--#\n",
            "-##-##-#\n",
            "----##--\n",
            "----#---\n",
            "----#---\n",
            "-####---\n",
            "___________________________\n",
            "|||||||\n",
            "vvvvvvv\n",
            "I remember =))\n",
            "Result:\n",
            "--###---\n",
            "--###---\n",
            "---##---\n",
            "---##---\n",
            "---##---\n",
            "---##---\n",
            "---##---\n",
            "---##---\n",
            "___________________________\n"
          ],
          "name": "stdout"
        }
      ]
    },
    {
      "cell_type": "markdown",
      "metadata": {
        "id": "Tbj5EIWOzHIS"
      },
      "source": [
        "## Plot result hamming distance against noise"
      ]
    },
    {
      "cell_type": "markdown",
      "metadata": {
        "id": "svdQACPj04h1"
      },
      "source": [
        "### Hamming distance funciton"
      ]
    },
    {
      "cell_type": "code",
      "metadata": {
        "id": "cBtkbwyb061c"
      },
      "source": [
        "def hamming_distance(pattern_1, pattern_2):\n",
        "  return np.count_nonzero(pattern_1 != pattern_2)"
      ],
      "execution_count": 145,
      "outputs": []
    },
    {
      "cell_type": "markdown",
      "metadata": {
        "id": "b8SBygLm07Bx"
      },
      "source": [
        "### Plot result"
      ]
    },
    {
      "cell_type": "code",
      "metadata": {
        "colab": {
          "base_uri": "https://localhost:8080/",
          "height": 653
        },
        "id": "245MjlLgymdo",
        "outputId": "af36c396-8853-4743-93c6-7e2d1473597c"
      },
      "source": [
        "noises = range(0, 101, 10)\n",
        "zero_hammings = []\n",
        "one_hammings = []\n",
        "for noise in noises:\n",
        "  noise /= 100\n",
        "  noisy_zero = add_noise(zero_pattern, noise)\n",
        "  noisy_zero_result, _ = hopfield.predict(noisy_zero)\n",
        "  hamming_d = hamming_distance(noisy_zero_result, zero_pattern)\n",
        "  zero_hammings.append(hamming_d)\n",
        "\n",
        "  noisy_one = add_noise(one_pattern, noise)\n",
        "  noisy_one_result, _ = hopfield.predict(noisy_one)\n",
        "  hamming_d = hamming_distance(noisy_one_result, one_pattern)\n",
        "  one_hammings.append(hamming_d)\n",
        "  \n",
        "plt.plot(noises, zero_hammings, label=\"Zero patterns\")\n",
        "plt.plot(noises, one_hammings, label=\"One patterns\")\n",
        "plt.xlabel(\"Noise rate (%)\")\n",
        "plt.ylabel(\"Hamming distance\")\n",
        "plt.legend()\n",
        "plt.show()"
      ],
      "execution_count": 146,
      "outputs": [
        {
          "output_type": "stream",
          "text": [
            "I remember =))\n",
            "I remember =))\n",
            "I remember =))\n",
            "I remember =))\n",
            "I remember =))\n",
            "I remember =))\n",
            "I remember =))\n",
            "I remember =))\n",
            "I remember =))\n",
            "I remember =))\n",
            "See old pattern... No memory :(\n",
            "I remember =))\n",
            "See old pattern... No memory :(\n",
            "See old pattern... No memory :(\n",
            "See old pattern... No memory :(\n",
            "See old pattern... No memory :(\n",
            "See old pattern... No memory :(\n",
            "See old pattern... No memory :(\n",
            "See old pattern... No memory :(\n",
            "See old pattern... No memory :(\n",
            "See old pattern... No memory :(\n",
            "See old pattern... No memory :(\n"
          ],
          "name": "stdout"
        },
        {
          "output_type": "display_data",
          "data": {
            "image/png": "[encoded data removed]",
            "text/plain": [
              "<Figure size 432x288 with 1 Axes>"
            ]
          },
          "metadata": {
            "tags": [],
            "needs_background": "light"
          }
        }
      ]
    }
  ]
}