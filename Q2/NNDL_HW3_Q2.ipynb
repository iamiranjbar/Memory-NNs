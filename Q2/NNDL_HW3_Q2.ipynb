{
  "nbformat": 4,
  "nbformat_minor": 0,
  "metadata": {
    "colab": {
      "name": "NNDL HW3 Q2.ipynb",
      "provenance": [],
      "collapsed_sections": []
    },
    "kernelspec": {
      "name": "python3",
      "display_name": "Python 3"
    },
    "language_info": {
      "name": "python"
    }
  },
  "cells": [
    {
      "cell_type": "markdown",
      "metadata": {
        "id": "pCVI0fyXMZhL"
      },
      "source": [
        "# Problem 2 (Auto Associative)"
      ]
    },
    {
      "cell_type": "markdown",
      "metadata": {
        "id": "VxYra0bGMa-4"
      },
      "source": [
        "## Import libraries"
      ]
    },
    {
      "cell_type": "code",
      "metadata": {
        "id": "W8EnyLleMSK0"
      },
      "source": [
        "import math\n",
        "import random\n",
        "import numpy as np\n",
        "import matplotlib.pyplot as plt"
      ],
      "execution_count": 94,
      "outputs": []
    },
    {
      "cell_type": "markdown",
      "metadata": {
        "id": "Sp7iziFeMd_q"
      },
      "source": [
        "## Auto Associative Network"
      ]
    },
    {
      "cell_type": "code",
      "metadata": {
        "id": "c1vZW6TfRVpu"
      },
      "source": [
        "class AutoAssociativeNet:\n",
        "\n",
        "  def __init__(self, patterns):\n",
        "    self.memory = patterns\n",
        "    self.nodes_count = len(self.memory[0].flatten())\n",
        "    self.weights = np.zeros((self.nodes_count, self.nodes_count))\n",
        "    self.weight_matrix_initialization()\n",
        "    self.treshold = 0\n",
        "\n",
        "  def weight_matrix_initialization(self): \n",
        "    for pattern in self.memory:\n",
        "      flatten_pattern = pattern.reshape((1, self.nodes_count))\n",
        "      self.weights += np.dot(np.transpose(flatten_pattern), flatten_pattern)\n",
        "\n",
        "    for i in range(self.nodes_count):\n",
        "      self.weights[i][i] = 0\n",
        "\n",
        "  def predict(self, pattern, verbose=True):\n",
        "    flatten_pattern = pattern.reshape((1, self.nodes_count))\n",
        "    result = np.dot(flatten_pattern, self.weights)\n",
        "    result[result > self.treshold] = 1\n",
        "    result[result < self.treshold] = -1\n",
        "\n",
        "    for memorise_pattern in self.memory:\n",
        "      if (memorise_pattern.flatten() == result).all():\n",
        "        if verbose:\n",
        "          print('I remember =))')\n",
        "        return memorise_pattern, True\n",
        "    if verbose:\n",
        "      print('I cant remember :((')\n",
        "    return result, False"
      ],
      "execution_count": 95,
      "outputs": []
    },
    {
      "cell_type": "markdown",
      "metadata": {
        "id": "WAXdlUPbSnjG"
      },
      "source": [
        "## Add noise funciton"
      ]
    },
    {
      "cell_type": "code",
      "metadata": {
        "id": "u8EGPBcsSpX5"
      },
      "source": [
        "def add_noise(pattern, noise_percentage=0.3):\n",
        "  noisy_pattern = np.copy(pattern)\n",
        "  pattern_cells = len(pattern)\n",
        "  mistaken_cells_count = math.floor(noise_percentage * pattern_cells)\n",
        "  to_change_indices = random.sample(range(pattern_cells), mistaken_cells_count)\n",
        "  for index in to_change_indices:\n",
        "    noisy_pattern[index] *= -1\n",
        "  return noisy_pattern"
      ],
      "execution_count": 96,
      "outputs": []
    },
    {
      "cell_type": "markdown",
      "metadata": {
        "id": "GGh_zIM-Ser-"
      },
      "source": [
        "## Run function for different parameters"
      ]
    },
    {
      "cell_type": "code",
      "metadata": {
        "id": "nT0DMVtXSdR9"
      },
      "source": [
        "def run(features_count, vector_count, error_rate):\n",
        "  accuracies = []\n",
        "  for _ in range(30):\n",
        "    main_vectors = []\n",
        "    noisy_vectors = []\n",
        "    for _ in range(vector_count):\n",
        "      random_vector = np.random.rand(features_count)*2 -1\n",
        "      random_vector[random_vector >= 0] = 1\n",
        "      random_vector[random_vector < 0] = -1\n",
        "      main_vectors.append(random_vector)\n",
        "      noisy_vector = add_noise(random_vector, error_rate)\n",
        "      noisy_vectors.append(noisy_vector)\n",
        "    \n",
        "    main_vectors = np.array(main_vectors)\n",
        "    noisy_vectors = np.array(noisy_vectors)\n",
        "    aa_net = AutoAssociativeNet(main_vectors)\n",
        "    vector_accuracy = []\n",
        "    for index in range(main_vectors.shape[0]):\n",
        "      main_vector = main_vectors[index]\n",
        "      noisy_vector = noisy_vectors[index]\n",
        "      result, found = aa_net.predict(noisy_vector, False)\n",
        "      correct_values = np.count_nonzero(main_vector == result)\n",
        "      vector_accuracy.append(correct_values/main_vector.shape[0])\n",
        "    accuracies.append(np.mean(vector_accuracy))\n",
        "  accuracy_mean = np.mean(accuracies)\n",
        "  accuracy_sd = np.std(accuracies)\n",
        "  print(\"N: {} - R: {} - E: {}\".format(features_count, vector_count, error_rate))\n",
        "  print(\"Accuracy mean: {}, std: {}\".format(accuracy_mean, accuracy_sd))\n",
        "  return accuracy_mean, accuracy_sd"
      ],
      "execution_count": 97,
      "outputs": []
    },
    {
      "cell_type": "markdown",
      "metadata": {
        "id": "90deg1oLV4Be"
      },
      "source": [
        "## Test network"
      ]
    },
    {
      "cell_type": "code",
      "metadata": {
        "colab": {
          "base_uri": "https://localhost:8080/"
        },
        "id": "bEitYOt6V0Rd",
        "outputId": "3622e2c6-747c-45a1-c805-c98247782439"
      },
      "source": [
        "FEATURES_COUNT = 100\n",
        "VECTOR_COUNTS = [10, 20, 30, 40, 50, 60, 70, 80, 90, 100]\n",
        "ERROR_RATES = [0, 0.2, 0.4]\n",
        "\n",
        "error_rate_accuracies = dict()\n",
        "for error_rate in ERROR_RATES:\n",
        "  accuracy_means = []\n",
        "  for vector_count in VECTOR_COUNTS:\n",
        "    mean, _ = run(FEATURES_COUNT, vector_count, error_rate)\n",
        "    accuracy_means.append(mean)\n",
        "  error_rate_accuracies[error_rate] = accuracy_means\n",
        "print(error_rate_accuracies)"
      ],
      "execution_count": 98,
      "outputs": [
        {
          "output_type": "stream",
          "text": [
            "N: 100 - R: 10 - E: 0\n",
            "Accuracy mean: 0.9997333333333334, std: 0.0006289320754704408\n",
            "N: 100 - R: 20 - E: 0\n",
            "Accuracy mean: 0.9885333333333332, std: 0.00446641790352055\n",
            "N: 100 - R: 30 - E: 0\n",
            "Accuracy mean: 0.9654555555555555, std: 0.004109143673369775\n",
            "N: 100 - R: 40 - E: 0\n",
            "Accuracy mean: 0.9417416666666666, std: 0.005969883909163446\n",
            "N: 100 - R: 50 - E: 0\n",
            "Accuracy mean: 0.9194733333333333, std: 0.005540754060193935\n",
            "N: 100 - R: 60 - E: 0\n",
            "Accuracy mean: 0.89985, std: 0.0031996382897423307\n",
            "N: 100 - R: 70 - E: 0\n",
            "Accuracy mean: 0.8817571428571429, std: 0.003447201369069025\n",
            "N: 100 - R: 80 - E: 0\n",
            "Accuracy mean: 0.8663791666666667, std: 0.00475673681623117\n",
            "N: 100 - R: 90 - E: 0\n",
            "Accuracy mean: 0.850774074074074, std: 0.004805902007064783\n",
            "N: 100 - R: 100 - E: 0\n",
            "Accuracy mean: 0.8395433333333333, std: 0.003982602443405823\n",
            "N: 100 - R: 10 - E: 0.2\n",
            "Accuracy mean: 0.9758666666666668, std: 0.009120428839820111\n",
            "N: 100 - R: 20 - E: 0.2\n",
            "Accuracy mean: 0.9146500000000001, std: 0.009690330231731036\n",
            "N: 100 - R: 30 - E: 0.2\n",
            "Accuracy mean: 0.862011111111111, std: 0.005404033701496837\n",
            "N: 100 - R: 40 - E: 0.2\n",
            "Accuracy mean: 0.825275, std: 0.0065020349378739385\n",
            "N: 100 - R: 50 - E: 0.2\n",
            "Accuracy mean: 0.8009466666666668, std: 0.006048676622939004\n",
            "N: 100 - R: 60 - E: 0.2\n",
            "Accuracy mean: 0.7781277777777778, std: 0.006235157685097023\n",
            "N: 100 - R: 70 - E: 0.2\n",
            "Accuracy mean: 0.7596238095238094, std: 0.004944382276864634\n",
            "N: 100 - R: 80 - E: 0.2\n",
            "Accuracy mean: 0.74645, std: 0.0050126506627399025\n",
            "N: 100 - R: 90 - E: 0.2\n",
            "Accuracy mean: 0.7314925925925926, std: 0.005324273426219483\n",
            "N: 100 - R: 100 - E: 0.2\n",
            "Accuracy mean: 0.7224833333333333, std: 0.004946789082043229\n",
            "N: 100 - R: 10 - E: 0.4\n",
            "Accuracy mean: 0.7384333333333334, std: 0.018953774177075024\n",
            "N: 100 - R: 20 - E: 0.4\n",
            "Accuracy mean: 0.6710166666666666, std: 0.011357437602245005\n",
            "N: 100 - R: 30 - E: 0.4\n",
            "Accuracy mean: 0.6354888888888888, std: 0.011882677505148332\n",
            "N: 100 - R: 40 - E: 0.4\n",
            "Accuracy mean: 0.6182749999999999, std: 0.00812874272771214\n",
            "N: 100 - R: 50 - E: 0.4\n",
            "Accuracy mean: 0.6064066666666668, std: 0.008397536675848598\n",
            "N: 100 - R: 60 - E: 0.4\n",
            "Accuracy mean: 0.5991, std: 0.00819909660786994\n",
            "N: 100 - R: 70 - E: 0.4\n",
            "Accuracy mean: 0.5909142857142857, std: 0.006724268161883873\n",
            "N: 100 - R: 80 - E: 0.4\n",
            "Accuracy mean: 0.5838541666666668, std: 0.007251514449103414\n",
            "N: 100 - R: 90 - E: 0.4\n",
            "Accuracy mean: 0.5776481481481481, std: 0.006838289881600604\n",
            "N: 100 - R: 100 - E: 0.4\n",
            "Accuracy mean: 0.5754566666666666, std: 0.006448911191476849\n",
            "{0: [0.9997333333333334, 0.9885333333333332, 0.9654555555555555, 0.9417416666666666, 0.9194733333333333, 0.89985, 0.8817571428571429, 0.8663791666666667, 0.850774074074074, 0.8395433333333333], 0.2: [0.9758666666666668, 0.9146500000000001, 0.862011111111111, 0.825275, 0.8009466666666668, 0.7781277777777778, 0.7596238095238094, 0.74645, 0.7314925925925926, 0.7224833333333333], 0.4: [0.7384333333333334, 0.6710166666666666, 0.6354888888888888, 0.6182749999999999, 0.6064066666666668, 0.5991, 0.5909142857142857, 0.5838541666666668, 0.5776481481481481, 0.5754566666666666]}\n"
          ],
          "name": "stdout"
        }
      ]
    },
    {
      "cell_type": "markdown",
      "metadata": {
        "id": "HBlfe7XvbsHp"
      },
      "source": [
        "## Plot accuracy means for different noise rates"
      ]
    },
    {
      "cell_type": "code",
      "metadata": {
        "colab": {
          "base_uri": "https://localhost:8080/",
          "height": 295
        },
        "id": "PHZ7n9v1YENr",
        "outputId": "50ac13d1-10c3-4e28-8b8c-388bfa44bb70"
      },
      "source": [
        "plt.title(\"Auto-associative Network Accuracy with Random Vectors\")\n",
        "plt.xlabel(\"Number of Vectors\")\n",
        "plt.ylabel(\"Mean Accuracy\")\n",
        "for error_rate, values in error_rate_accuracies.items():\n",
        "  plt.plot(VECTOR_COUNTS, values, label=\"Average Accuracy of 30 Runs with {}% Noise\".format(error_rate*100))\n",
        "plt.legend()\n",
        "plt.show()"
      ],
      "execution_count": 99,
      "outputs": [
        {
          "output_type": "display_data",
          "data": {
            "image/png": "[encoded data removed]",
            "text/plain": [
              "<Figure size 432x288 with 1 Axes>"
            ]
          },
          "metadata": {
            "tags": [],
            "needs_background": "light"
          }
        }
      ]
    }
  ]
}