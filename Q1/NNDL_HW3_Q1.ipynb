{
  "nbformat": 4,
  "nbformat_minor": 0,
  "metadata": {
    "colab": {
      "name": "NNDL HW3 Q1.ipynb",
      "provenance": [],
      "collapsed_sections": []
    },
    "kernelspec": {
      "name": "python3",
      "display_name": "Python 3"
    },
    "language_info": {
      "name": "python"
    }
  },
  "cells": [
    {
      "cell_type": "markdown",
      "metadata": {
        "id": "OqL6GZ163nAD"
      },
      "source": [
        "# Problem 1 (Hebbian Rule)"
      ]
    },
    {
      "cell_type": "markdown",
      "metadata": {
        "id": "AzaIdvBD36CZ"
      },
      "source": [
        "## Import Libraries\n"
      ]
    },
    {
      "cell_type": "code",
      "metadata": {
        "id": "Qd7vidNg5-kn"
      },
      "source": [
        "import math\n",
        "import random\n",
        "import numpy as np"
      ],
      "execution_count": 58,
      "outputs": []
    },
    {
      "cell_type": "markdown",
      "metadata": {
        "id": "bNpXlBHB42Ga"
      },
      "source": [
        "## Hebbian Memory Nueral Network class"
      ]
    },
    {
      "cell_type": "code",
      "metadata": {
        "id": "2d0s2j8342ZF"
      },
      "source": [
        "class HebMNN:\n",
        "\n",
        "  def __init__(self, input_patterns, output_patterns):\n",
        "    self.input_patterns = input_patterns\n",
        "    self.memory = output_patterns\n",
        "    self.input_nodes_count = len(self.input_patterns[0].flatten())\n",
        "    self.output_nodes_count = len(self.memory[0].flatten())\n",
        "    self.weights = np.zeros((self.input_nodes_count, self.output_nodes_count))\n",
        "    self.weight_matrix_initialization()\n",
        "    self.treshold = 0\n",
        "\n",
        "  def weight_matrix_initialization(self): \n",
        "    for index in range(len(input_patterns)):\n",
        "      input_pattern = self.input_patterns[index]\n",
        "      output_pattern = self.memory[index]\n",
        "      flatten_input_pattern = input_pattern.reshape((1, self.input_nodes_count))\n",
        "      flatten_output_pattern = output_pattern.reshape((1, self.output_nodes_count))\n",
        "      self.weights += np.dot(np.transpose(flatten_input_pattern), flatten_output_pattern)\n",
        "\n",
        "  def predict(self, pattern, verbose=True):\n",
        "    flatten_pattern = pattern.reshape((1, self.input_nodes_count))\n",
        "    result = np.dot(flatten_pattern, self.weights)\n",
        "    result[result > self.treshold] = 1\n",
        "    result[result < self.treshold] = -1\n",
        "\n",
        "    for memorise_pattern in self.memory:\n",
        "      if (memorise_pattern.flatten() == result).all():\n",
        "        if verbose:\n",
        "          print('I remember =))')\n",
        "        return memorise_pattern, True\n",
        "    if verbose:\n",
        "      print('I cant remember :((')\n",
        "    return None, False"
      ],
      "execution_count": 62,
      "outputs": []
    },
    {
      "cell_type": "markdown",
      "metadata": {
        "id": "hW5M7iMaCDRl"
      },
      "source": [
        "### Show matrix function"
      ]
    },
    {
      "cell_type": "code",
      "metadata": {
        "id": "fDNZTW5SCETT"
      },
      "source": [
        "def show_result(matrix, pattern_found=None):\n",
        "  if pattern_found is not None:\n",
        "    if not pattern_found:\n",
        "      print(\"Best achieved:\")\n",
        "    else:\n",
        "      print(\"Result:\")\n",
        "  for i in range(matrix.shape[0]):\n",
        "    for j in range(matrix.shape[1]):\n",
        "      if matrix[i][j] == 1:\n",
        "        print(\"#\", end=\"\")\n",
        "      else:\n",
        "        print(\"-\", end=\"\")\n",
        "    print(\"\")\n",
        "  print(\"___________________________\")"
      ],
      "execution_count": 63,
      "outputs": []
    },
    {
      "cell_type": "markdown",
      "metadata": {
        "id": "55oKjyPpB-HY"
      },
      "source": [
        "## Test Network"
      ]
    },
    {
      "cell_type": "code",
      "metadata": {
        "colab": {
          "base_uri": "https://localhost:8080/"
        },
        "id": "aHiVipuu441G",
        "outputId": "b7420dd3-99db-47a6-f41b-9df78e9cec80"
      },
      "source": [
        "a_in_pattern = np.array([[-1,-1,-1,1,-1,-1,-1],\n",
        "                        [-1,-1,-1,1,-1,-1,-1],\n",
        "                        [-1,-1,-1,1,-1,-1,-1],\n",
        "                        [-1,-1, 1,-1,1,-1,-1],\n",
        "                        [-1,-1, 1,-1,1,-1,-1],\n",
        "                        [-1, 1, 1, 1, 1,1,-1],\n",
        "                        [-1,1,-1,-1,-1, 1,-1],\n",
        "                        [-1,1,-1,-1,-1, 1,-1],\n",
        "                        [1, 1, 1,-1, 1, 1, 1]])\n",
        "b_in_pattern = np.array([[1, 1, 1, 1, 1, 1, 1],\n",
        "                        [1,-1,-1,-1,-1,-1, 1],\n",
        "                        [1,-1,-1,-1,-1, 1,-1],\n",
        "                        [1,-1,-1,-1, 1,-1,-1],\n",
        "                        [1, 1, 1, 1,-1,-1,-1],\n",
        "                        [1,-1,-1,-1, 1,-1,-1],\n",
        "                        [1,-1,-1,-1,-1, 1,-1],\n",
        "                        [1,-1,-1,-1,-1,-1, 1],\n",
        "                        [1, 1, 1, 1, 1, 1, 1]])\n",
        "c_in_pattern = np.array([[-1,-1, 1, 1, 1, 1,-1],\n",
        "                        [-1, 1,-1,-1,-1,-1, 1],\n",
        "                        [1, -1,-1,-1,-1,-1,-1],\n",
        "                        [1, -1,-1,-1,-1,-1,-1],\n",
        "                        [1, -1,-1,-1,-1,-1,-1],\n",
        "                        [1, -1,-1,-1,-1,-1,-1],\n",
        "                        [1, -1,-1,-1,-1,-1,-1],\n",
        "                        [-1, 1,-1,-1,-1,-1, 1],\n",
        "                        [-1,-1, 1, 1, 1, 1,-1]])\n",
        "a_out_pattern = np.array([[-1,1,-1],\n",
        "                          [1,-1, 1],\n",
        "                          [1, 1, 1],\n",
        "                          [1,-1, 1],\n",
        "                          [1,-1, 1]])\n",
        "b_out_pattern = np.array([[1, 1,-1],\n",
        "                          [1,-1, 1],\n",
        "                          [1, 1,-1],\n",
        "                          [1,-1, 1],\n",
        "                          [1, 1,-1]])\n",
        "c_out_pattern = np.array([[-1, 1, 1],\n",
        "                          [ 1,-1,-1],\n",
        "                          [ 1,-1,-1],\n",
        "                          [ 1,-1,-1],\n",
        "                          [-1, 1, 1]])\n",
        "input_patterns = np.array([a_in_pattern, b_in_pattern, c_in_pattern])\n",
        "output_patterns = np.array([a_out_pattern, b_out_pattern, c_out_pattern])\n",
        "heb_mnn = HebMNN(input_patterns, output_patterns)\n",
        "\n",
        "a_result, pattern_found = heb_mnn.predict(a_in_pattern)\n",
        "show_result(a_result, pattern_found)\n",
        "\n",
        "b_result, pattern_found = heb_mnn.predict(b_in_pattern)\n",
        "show_result(b_result, pattern_found)\n",
        "\n",
        "c_result, pattern_found = heb_mnn.predict(c_in_pattern)\n",
        "show_result(c_result, pattern_found)"
      ],
      "execution_count": 64,
      "outputs": [
        {
          "output_type": "stream",
          "text": [
            "I remember =))\n",
            "Result:\n",
            "-#-\n",
            "#-#\n",
            "###\n",
            "#-#\n",
            "#-#\n",
            "___________________________\n",
            "I remember =))\n",
            "Result:\n",
            "##-\n",
            "#-#\n",
            "##-\n",
            "#-#\n",
            "##-\n",
            "___________________________\n",
            "I remember =))\n",
            "Result:\n",
            "-##\n",
            "#--\n",
            "#--\n",
            "#--\n",
            "-##\n",
            "___________________________\n"
          ],
          "name": "stdout"
        }
      ]
    },
    {
      "cell_type": "markdown",
      "metadata": {
        "id": "bhCXGtKTI6Hh"
      },
      "source": [
        "## Add noise and Test network robustness"
      ]
    },
    {
      "cell_type": "markdown",
      "metadata": {
        "id": "ccVV5pYBJCke"
      },
      "source": [
        "### Add noise function"
      ]
    },
    {
      "cell_type": "code",
      "metadata": {
        "id": "esNqvhwTEBr4"
      },
      "source": [
        "def add_noise(pattern, noise_percentage=0.3):\n",
        "  noisy_pattern = np.copy(pattern)\n",
        "  pattern_cells = len(pattern.flatten())\n",
        "  mistaken_cells_count = math.floor(noise_percentage * pattern_cells)\n",
        "  to_change_indices = random.sample(range(pattern_cells), mistaken_cells_count)\n",
        "  for index in to_change_indices:\n",
        "    to_change_row = index // noisy_pattern.shape[1]\n",
        "    to_change_col = index % noisy_pattern.shape[1]\n",
        "    noisy_pattern[to_change_row][to_change_col] *= -1\n",
        "  return noisy_pattern"
      ],
      "execution_count": 65,
      "outputs": []
    },
    {
      "cell_type": "markdown",
      "metadata": {
        "id": "xj5Cu_VbJHm9"
      },
      "source": [
        "### Miss data function"
      ]
    },
    {
      "cell_type": "code",
      "metadata": {
        "id": "0ZMFcm6dJGhX"
      },
      "source": [
        "def miss_data(pattern, miss_percentage=0.3):\n",
        "  missed_pattern = np.copy(pattern)\n",
        "  black_cells = list(zip(*np.where(missed_pattern == 1)))\n",
        "  black_cells_count = len(black_cells)\n",
        "  mistaken_cells_count = math.floor(miss_percentage * black_cells_count)\n",
        "  to_change_indices = random.sample(range(black_cells_count), mistaken_cells_count)\n",
        "  for index in to_change_indices:\n",
        "    to_change_row, to_change_col = black_cells[index]\n",
        "    missed_pattern[to_change_row][to_change_col] = -1\n",
        "  return missed_pattern"
      ],
      "execution_count": 66,
      "outputs": []
    },
    {
      "cell_type": "markdown",
      "metadata": {
        "id": "PXPkGrzGLh8h"
      },
      "source": [
        "### Test against 10, 25 percent noises"
      ]
    },
    {
      "cell_type": "code",
      "metadata": {
        "colab": {
          "base_uri": "https://localhost:8080/"
        },
        "id": "DtEhNpE4KjrM",
        "outputId": "3a540660-76f5-4ed3-d3fb-e29443e6d4d2"
      },
      "source": [
        "ten_noisy_a = add_noise(a_in_pattern, 0.1)\n",
        "show_result(ten_noisy_a)\n",
        "ten_noisy_a_result, pattern_found = heb_mnn.predict(ten_noisy_a)\n",
        "show_result(ten_noisy_a_result, pattern_found)\n",
        "\n",
        "twfive_noisy_a = add_noise(a_in_pattern, 0.25)\n",
        "show_result(twfive_noisy_a)\n",
        "twfive_noisy_a_result, pattern_found = heb_mnn.predict(twfive_noisy_a)\n",
        "show_result(twfive_noisy_a_result, pattern_found)\n",
        "\n",
        "ten_noisy_b = add_noise(b_in_pattern, 0.1)\n",
        "show_result(ten_noisy_b)\n",
        "ten_noisy_b_result, pattern_found = heb_mnn.predict(ten_noisy_b)\n",
        "show_result(ten_noisy_b_result, pattern_found)\n",
        "\n",
        "twfive_noisy_b = add_noise(b_in_pattern, 0.25)\n",
        "show_result(twfive_noisy_b)\n",
        "twfive_noisy_b_result, pattern_found = heb_mnn.predict(twfive_noisy_b)\n",
        "show_result(twfive_noisy_b_result, pattern_found)\n",
        "\n",
        "ten_noisy_c = add_noise(c_in_pattern, 0.1)\n",
        "show_result(ten_noisy_c)\n",
        "ten_noisy_c_result, pattern_found = heb_mnn.predict(ten_noisy_c)\n",
        "show_result(ten_noisy_c_result, pattern_found)\n",
        "\n",
        "twfive_noisy_c = add_noise(c_in_pattern, 0.25)\n",
        "show_result(twfive_noisy_c)\n",
        "twfive_noisy_c_result, pattern_found = heb_mnn.predict(twfive_noisy_c)\n",
        "show_result(twfive_noisy_c_result, pattern_found)"
      ],
      "execution_count": 67,
      "outputs": [
        {
          "output_type": "stream",
          "text": [
            "-#-#---\n",
            "---#---\n",
            "-------\n",
            "--#-#--\n",
            "--#-#--\n",
            "-####--\n",
            "##-#-#-\n",
            "-#---#-\n",
            "###-##-\n",
            "___________________________\n",
            "I remember =))\n",
            "Result:\n",
            "-#-\n",
            "#-#\n",
            "###\n",
            "#-#\n",
            "#-#\n",
            "___________________________\n",
            "#--##--\n",
            "-#-####\n",
            "---##--\n",
            "--#-##-\n",
            "--#-#--\n",
            "####-#-\n",
            "-#---#-\n",
            "-#-----\n",
            "-----##\n",
            "___________________________\n",
            "I remember =))\n",
            "Result:\n",
            "-#-\n",
            "#-#\n",
            "###\n",
            "#-#\n",
            "#-#\n",
            "___________________________\n",
            "######-\n",
            "#---#-#\n",
            "#----#-\n",
            "#---#--\n",
            "#####--\n",
            "#---#--\n",
            "###----\n",
            "#-----#\n",
            "#######\n",
            "___________________________\n",
            "I remember =))\n",
            "Result:\n",
            "##-\n",
            "#-#\n",
            "##-\n",
            "#-#\n",
            "##-\n",
            "___________________________\n",
            "----#-#\n",
            "------#\n",
            "-----#-\n",
            "-#--#--\n",
            "####--#\n",
            "#---#--\n",
            "#------\n",
            "#----##\n",
            "---####\n",
            "___________________________\n",
            "I remember =))\n",
            "Result:\n",
            "##-\n",
            "#-#\n",
            "##-\n",
            "#-#\n",
            "##-\n",
            "___________________________\n",
            "--####-\n",
            "-##---#\n",
            "#------\n",
            "##-----\n",
            "##-----\n",
            "#-#----\n",
            "#------\n",
            "-#--#--\n",
            "--####-\n",
            "___________________________\n",
            "I remember =))\n",
            "Result:\n",
            "-##\n",
            "#--\n",
            "#--\n",
            "#--\n",
            "-##\n",
            "___________________________\n",
            "--###-#\n",
            "-#-----\n",
            "#---#--\n",
            "#--##--\n",
            "-#-#---\n",
            "#------\n",
            "#-#--#-\n",
            "-#---#-\n",
            "#--###-\n",
            "___________________________\n",
            "I remember =))\n",
            "Result:\n",
            "-##\n",
            "#--\n",
            "#--\n",
            "#--\n",
            "-##\n",
            "___________________________\n"
          ],
          "name": "stdout"
        }
      ]
    },
    {
      "cell_type": "markdown",
      "metadata": {
        "id": "vHYMihVHL402"
      },
      "source": [
        "### Test against 10, 25 percent missing data"
      ]
    },
    {
      "cell_type": "code",
      "metadata": {
        "colab": {
          "base_uri": "https://localhost:8080/"
        },
        "id": "0gZ8CB2gKsKs",
        "outputId": "c1e08461-b4c4-4d1b-c20c-2437fe017fc1"
      },
      "source": [
        "ten_missed_a = miss_data(a_in_pattern, 0.1)\n",
        "show_result(ten_missed_a)\n",
        "ten_missed_a_result, pattern_found = heb_mnn.predict(ten_missed_a)\n",
        "show_result(ten_missed_a_result, pattern_found)\n",
        "\n",
        "twfive_missed_a = miss_data(a_in_pattern, 0.25)\n",
        "show_result(twfive_missed_a)\n",
        "twfive_missed_a_result, pattern_found = heb_mnn.predict(twfive_missed_a)\n",
        "show_result(twfive_missed_a_result, pattern_found)\n",
        "\n",
        "ten_missed_b = miss_data(b_in_pattern, 0.1)\n",
        "show_result(ten_missed_b)\n",
        "ten_missed_b_result, pattern_found = heb_mnn.predict(ten_missed_b)\n",
        "show_result(ten_missed_b_result, pattern_found)\n",
        "\n",
        "twfive_missed_b = miss_data(b_in_pattern, 0.25)\n",
        "show_result(twfive_missed_b)\n",
        "twfive_missed_b_result, pattern_found = heb_mnn.predict(twfive_missed_b)\n",
        "show_result(twfive_missed_b_result, pattern_found)\n",
        "\n",
        "ten_missed_c = miss_data(c_in_pattern, 0.1)\n",
        "show_result(ten_missed_c)\n",
        "ten_missed_c_result, pattern_found = heb_mnn.predict(ten_missed_c)\n",
        "show_result(ten_missed_c_result, pattern_found)\n",
        "\n",
        "twfive_missed_c = miss_data(c_in_pattern, 0.25)\n",
        "show_result(twfive_missed_c)\n",
        "twfive_missed_c_result, pattern_found = heb_mnn.predict(twfive_missed_c)\n",
        "show_result(twfive_missed_c_result, pattern_found)"
      ],
      "execution_count": 68,
      "outputs": [
        {
          "output_type": "stream",
          "text": [
            "---#---\n",
            "---#---\n",
            "---#---\n",
            "----#--\n",
            "--#-#--\n",
            "-#####-\n",
            "-#---#-\n",
            "-#---#-\n",
            "##--###\n",
            "___________________________\n",
            "I remember =))\n",
            "Result:\n",
            "-#-\n",
            "#-#\n",
            "###\n",
            "#-#\n",
            "#-#\n",
            "___________________________\n",
            "---#---\n",
            "---#---\n",
            "---#---\n",
            "--#-#--\n",
            "--#----\n",
            "-#-##--\n",
            "-----#-\n",
            "-#-----\n",
            "###-###\n",
            "___________________________\n",
            "I remember =))\n",
            "Result:\n",
            "-#-\n",
            "#-#\n",
            "###\n",
            "#-#\n",
            "#-#\n",
            "___________________________\n",
            "##-####\n",
            "#------\n",
            "#----#-\n",
            "#---#--\n",
            "####---\n",
            "----#--\n",
            "#----#-\n",
            "#-----#\n",
            "#######\n",
            "___________________________\n",
            "I remember =))\n",
            "Result:\n",
            "##-\n",
            "#-#\n",
            "##-\n",
            "#-#\n",
            "##-\n",
            "___________________________\n",
            "-#####-\n",
            "#-----#\n",
            "#------\n",
            "#---#--\n",
            "####---\n",
            "#---#--\n",
            "#------\n",
            "------#\n",
            "##-#-##\n",
            "___________________________\n",
            "I remember =))\n",
            "Result:\n",
            "##-\n",
            "#-#\n",
            "##-\n",
            "#-#\n",
            "##-\n",
            "___________________________\n",
            "--####-\n",
            "-#----#\n",
            "-------\n",
            "#------\n",
            "#------\n",
            "#------\n",
            "#------\n",
            "-#----#\n",
            "--####-\n",
            "___________________________\n",
            "I remember =))\n",
            "Result:\n",
            "-##\n",
            "#--\n",
            "#--\n",
            "#--\n",
            "-##\n",
            "___________________________\n",
            "----##-\n",
            "-#-----\n",
            "#------\n",
            "#------\n",
            "#------\n",
            "#------\n",
            "#------\n",
            "-#----#\n",
            "--##-#-\n",
            "___________________________\n",
            "I remember =))\n",
            "Result:\n",
            "-##\n",
            "#--\n",
            "#--\n",
            "#--\n",
            "-##\n",
            "___________________________\n"
          ],
          "name": "stdout"
        }
      ]
    },
    {
      "cell_type": "markdown",
      "metadata": {
        "id": "ftskNsBLO2nR"
      },
      "source": [
        "## Run 100 times for calculating accuracy"
      ]
    },
    {
      "cell_type": "code",
      "metadata": {
        "colab": {
          "base_uri": "https://localhost:8080/"
        },
        "id": "xcyx858XO83l",
        "outputId": "b738b2b4-a6fa-4a28-b5a3-69a63083be75"
      },
      "source": [
        "correct = 0\n",
        "all = 0\n",
        "for _ in range(100):\n",
        "  ten_noisy_a = add_noise(a_in_pattern, 0.1)\n",
        "  ten_noisy_a_result, pattern_found = heb_mnn.predict(ten_noisy_a, False)\n",
        "  if (a_out_pattern == ten_noisy_a_result).all():\n",
        "    correct += 1\n",
        "  all += 1\n",
        "\n",
        "  ten_noisy_b = add_noise(b_in_pattern, 0.1)\n",
        "  ten_noisy_b_result, pattern_found = heb_mnn.predict(ten_noisy_b, False)\n",
        "  if (b_out_pattern == ten_noisy_b_result).all():\n",
        "    correct += 1\n",
        "  all += 1\n",
        "\n",
        "  ten_noisy_c = add_noise(c_in_pattern, 0.1)\n",
        "  ten_noisy_c_result, pattern_found = heb_mnn.predict(ten_noisy_c, False)\n",
        "  if (c_out_pattern == ten_noisy_c_result).all():\n",
        "    correct += 1\n",
        "  all += 1\n",
        "\n",
        "print(\"Ten Percent Noise accuracy: {} %\".format(correct*100/all))\n",
        "\n",
        "correct = 0\n",
        "all = 0\n",
        "for _ in range(100):\n",
        "  twfive_noisy_a = add_noise(a_in_pattern, 0.25)\n",
        "  twfive_noisy_a_result, pattern_found = heb_mnn.predict(twfive_noisy_a, False)\n",
        "  if (a_out_pattern == twfive_noisy_a_result).all():\n",
        "    correct += 1\n",
        "  all += 1\n",
        "\n",
        "  twfive_noisy_b = add_noise(b_in_pattern, 0.25)\n",
        "  twfive_noisy_b_result, pattern_found = heb_mnn.predict(twfive_noisy_b, False)\n",
        "  if (b_out_pattern == twfive_noisy_b_result).all():\n",
        "    correct += 1\n",
        "  all += 1\n",
        "\n",
        "  twfive_noisy_c = add_noise(c_in_pattern, 0.25)\n",
        "  twfive_noisy_c_result, pattern_found = heb_mnn.predict(twfive_noisy_c, False)\n",
        "  if (c_out_pattern == twfive_noisy_c_result).all():\n",
        "    correct += 1\n",
        "  all += 1\n",
        "\n",
        "print(\"Twenty Five Percent Noise accuracy: {} %\".format(correct*100/all))\n",
        "\n",
        "correct = 0\n",
        "all = 0\n",
        "for _ in range(100):\n",
        "  ten_missed_a = miss_data(a_in_pattern, 0.1)\n",
        "  ten_missed_a_result, pattern_found = heb_mnn.predict(ten_missed_a, False)\n",
        "  if (a_out_pattern == ten_missed_a_result).all():\n",
        "    correct += 1\n",
        "  all += 1\n",
        "\n",
        "  ten_missed_b = miss_data(b_in_pattern, 0.1)\n",
        "  ten_missed_b_result, pattern_found = heb_mnn.predict(ten_missed_b, False)\n",
        "  if (b_out_pattern == ten_missed_b_result).all():\n",
        "    correct += 1\n",
        "  all += 1\n",
        "\n",
        "  ten_missed_c = miss_data(c_in_pattern, 0.1)\n",
        "  ten_missed_c_result, pattern_found = heb_mnn.predict(ten_missed_c, False)\n",
        "  if (c_out_pattern == ten_missed_c_result).all():\n",
        "    correct += 1\n",
        "  all += 1\n",
        "\n",
        "print(\"Ten Percent Missing accuracy: {} %\".format(correct*100/all))\n",
        "\n",
        "correct = 0\n",
        "all = 0\n",
        "for _ in range(100):\n",
        "  twfive_missed_a = miss_data(a_in_pattern, 0.25)\n",
        "  twfive_missed_a_result, pattern_found = heb_mnn.predict(twfive_missed_a, False)\n",
        "  if (a_out_pattern == twfive_missed_a_result).all():\n",
        "    correct += 1\n",
        "  all += 1\n",
        "\n",
        "  twfive_missed_b = miss_data(b_in_pattern, 0.25)\n",
        "  twfive_missed_b_result, pattern_found = heb_mnn.predict(twfive_missed_b, False)\n",
        "  if (b_out_pattern == twfive_missed_b_result).all():\n",
        "    correct += 1\n",
        "  all += 1\n",
        "\n",
        "  twfive_missed_c = miss_data(c_in_pattern, 0.25)\n",
        "  twfive_missed_c_result, pattern_found = heb_mnn.predict(twfive_missed_c, False)\n",
        "  if (c_out_pattern == twfive_missed_c_result).all():\n",
        "    correct += 1\n",
        "  all += 1\n",
        "\n",
        "print(\"Twenty Five Percent Missing accuracy: {} %\".format(correct*100/all))"
      ],
      "execution_count": 75,
      "outputs": [
        {
          "output_type": "stream",
          "text": [
            "Ten Percent Noise accuracy: 100.0 %\n",
            "Twenty Five Percent Noise accuracy: 97.33333333333333 %\n",
            "Ten Percent Missing accuracy: 100.0 %\n",
            "Twenty Five Percent Missing accuracy: 99.66666666666667 %\n"
          ],
          "name": "stdout"
        }
      ]
    }
  ]
}