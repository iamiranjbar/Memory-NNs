{
  "nbformat": 4,
  "nbformat_minor": 0,
  "metadata": {
    "colab": {
      "name": "NNDL HW3 Q4.ipynb",
      "provenance": [],
      "collapsed_sections": []
    },
    "kernelspec": {
      "name": "python3",
      "display_name": "Python 3"
    },
    "language_info": {
      "name": "python"
    }
  },
  "cells": [
    {
      "cell_type": "markdown",
      "metadata": {
        "id": "TbrFHtQ2iEXl"
      },
      "source": [
        "# Q4 (BAM)"
      ]
    },
    {
      "cell_type": "markdown",
      "metadata": {
        "id": "55ymFEZxiNe4"
      },
      "source": [
        "## Import libraries"
      ]
    },
    {
      "cell_type": "code",
      "metadata": {
        "id": "XuHOLslUiATU"
      },
      "source": [
        "import math\n",
        "import random\n",
        "import numpy as np\n",
        "import matplotlib.pyplot as plt"
      ],
      "execution_count": 1,
      "outputs": []
    },
    {
      "cell_type": "markdown",
      "metadata": {
        "id": "ksfqyV4jkh19"
      },
      "source": [
        "## BAM Network Class"
      ]
    },
    {
      "cell_type": "code",
      "metadata": {
        "id": "Bxj2bP4fiRtk"
      },
      "source": [
        "class BamNetwork:\n",
        "\n",
        "  def __init__(self, input_patterns, output_patterns):\n",
        "    self.input_patterns = input_patterns\n",
        "    self.memory = output_patterns\n",
        "    self.input_nodes_count = len(self.input_patterns[0].flatten())\n",
        "    self.output_nodes_count = len(self.memory[0].flatten())\n",
        "    self.weights = np.zeros((self.input_nodes_count, self.output_nodes_count))\n",
        "    self.weight_matrix_initialization()\n",
        "    self.treshold = 0\n",
        "\n",
        "  def weight_matrix_initialization(self): \n",
        "    for index in range(len(input_patterns)):\n",
        "      input_pattern = self.input_patterns[index]\n",
        "      output_pattern = self.memory[index]\n",
        "      flatten_input_pattern = input_pattern.reshape((1, self.input_nodes_count))\n",
        "      flatten_output_pattern = output_pattern.reshape((1, self.output_nodes_count))\n",
        "      self.weights += np.dot(np.transpose(flatten_input_pattern), flatten_output_pattern)\n",
        "\n",
        "  def predict(self, pattern, is_x=True, verbose=True):\n",
        "    seen_xs = set()\n",
        "    seen_ys = set()\n",
        "\n",
        "    if is_x:\n",
        "      self.x = pattern.flatten()\n",
        "      self.y = np.zeros(self.memory[0].shape).flatten()\n",
        "      while True:\n",
        "        flatten_x = self.x.reshape((1, self.input_nodes_count))\n",
        "        self.y = np.dot(flatten_x, self.weights)\n",
        "        self.y[self.y > self.treshold] = 1\n",
        "        self.y[self.y < self.treshold] = -1\n",
        "        \n",
        "        if tuple(self.y.flatten()) in seen_ys:\n",
        "          if verbose:\n",
        "            print('See old pattern... No memory :(')\n",
        "          return self.x.reshape(self.input_patterns[0].shape), self.y.reshape(self.memory[0].shape), False\n",
        "        seen_ys.add(tuple(self.y.flatten()))\n",
        "\n",
        "        flatten_y = self.y.reshape((1, self.output_nodes_count))\n",
        "        self.x = np.dot(flatten_y, self.weights.T)\n",
        "        self.x[self.x > self.treshold] = 1\n",
        "        self.x[self.x < self.treshold] = -1\n",
        "\n",
        "        if tuple(self.x.flatten()) in seen_xs:\n",
        "          if verbose:\n",
        "            print('See old pattern... No memory :(')\n",
        "          return self.x.reshape(self.input_patterns[0].shape), self.y.reshape(self.memory[0].shape), False\n",
        "        seen_xs.add(tuple(self.x.flatten()))\n",
        "        \n",
        "        for memorise_pattern in self.memory:\n",
        "          if (memorise_pattern.flatten() == self.y).all():\n",
        "            for inp in self.input_patterns:\n",
        "              if (inp.flatten() == self.x).all():\n",
        "                if verbose:\n",
        "                  print('I remember =))')\n",
        "                return inp, memorise_pattern, True\n",
        "    else:\n",
        "      self.x = np.zeros(self.memory[0].shape).flatten()\n",
        "      self.y = pattern.flatten()\n",
        "      while True:\n",
        "        flatten_y = self.y.reshape((1, self.output_nodes_count))\n",
        "        self.x = np.dot(flatten_y, self.weights.T)\n",
        "        self.x[self.x > self.treshold] = 1\n",
        "        self.x[self.x < self.treshold] = -1\n",
        "\n",
        "        if tuple(self.x.flatten()) in seen_xs:\n",
        "          if verbose:\n",
        "            print('See old pattern... No memory :(')\n",
        "          return self.x.reshape(self.input_patterns[0].shape), self.y.reshape(self.memory[0].shape), False\n",
        "        seen_xs.add(tuple(self.x.flatten()))\n",
        "\n",
        "        flatten_x = self.x.reshape((1, self.input_nodes_count))\n",
        "        self.y = np.dot(flatten_x, self.weights)\n",
        "        self.y[self.y > self.treshold] = 1\n",
        "        self.y[self.y < self.treshold] = -1\n",
        "        \n",
        "        if tuple(self.y.flatten()) in seen_ys:\n",
        "          if verbose:\n",
        "            print('See old pattern... No memory :(')\n",
        "          return self.x.reshape(self.input_patterns[0].shape), self.y.reshape(self.memory[0].shape), False\n",
        "        seen_ys.add(tuple(self.y.flatten()))\n",
        "        \n",
        "        for inp in self.input_patterns:\n",
        "          if (inp.flatten() == self.x).all():\n",
        "            for memorise_pattern in self.memory:\n",
        "              if (memorise_pattern.flatten() == self.y).all():\n",
        "                if verbose:\n",
        "                  print('I remember =))')\n",
        "                return inp, memorise_pattern, True"
      ],
      "execution_count": 40,
      "outputs": []
    },
    {
      "cell_type": "markdown",
      "metadata": {
        "id": "qfPAjVXNxn0i"
      },
      "source": [
        "### Show matrix function"
      ]
    },
    {
      "cell_type": "code",
      "metadata": {
        "id": "5Pp5osMBxnTX"
      },
      "source": [
        "def show_result(matrix, pattern_found=None):\n",
        "  if pattern_found is not None:\n",
        "    if not pattern_found:\n",
        "      print(\"Best achieved:\")\n",
        "    else:\n",
        "      print(\"Result:\")\n",
        "  for i in range(matrix.shape[0]):\n",
        "    for j in range(matrix.shape[1]):\n",
        "      if matrix[i][j] == 1:\n",
        "        print(\"#\", end=\"\")\n",
        "      else:\n",
        "        print(\"-\", end=\"\")\n",
        "    print(\"\")\n",
        "  print(\"___________________________\")"
      ],
      "execution_count": 41,
      "outputs": []
    },
    {
      "cell_type": "markdown",
      "metadata": {
        "id": "t98Rhh0-xZE0"
      },
      "source": [
        "## Test network with A, B, C"
      ]
    },
    {
      "cell_type": "markdown",
      "metadata": {
        "id": "SyrZC91_ymek"
      },
      "source": [
        "### Print weight matrix"
      ]
    },
    {
      "cell_type": "code",
      "metadata": {
        "colab": {
          "base_uri": "https://localhost:8080/"
        },
        "id": "Ki8Rc8B_xfKR",
        "outputId": "b8ca08d5-ab87-44a9-c5a8-fc6f527a0fd8"
      },
      "source": [
        "a_in_pattern = np.array([ [-1,1,-1],\n",
        "                          [1,-1, 1],\n",
        "                          [1, 1, 1],\n",
        "                          [1,-1, 1],\n",
        "                          [1,-1, 1]])\n",
        "b_in_pattern = np.array([ [1, 1,-1],\n",
        "                          [1,-1, 1],\n",
        "                          [1, 1,-1],\n",
        "                          [1,-1, 1],\n",
        "                          [1, 1,-1]])\n",
        "c_in_pattern = np.array([ [-1, 1, 1],\n",
        "                          [ 1,-1,-1],\n",
        "                          [ 1,-1,-1],\n",
        "                          [ 1,-1,-1],\n",
        "                          [-1, 1, 1]])\n",
        "\n",
        "a_out_pattern = np.array([-1,-1,-1])\n",
        "b_out_pattern = np.array([-1,-1, 1])\n",
        "c_out_pattern = np.array([-1, 1,-1])\n",
        "\n",
        "input_patterns = np.array([a_in_pattern, b_in_pattern, c_in_pattern])\n",
        "output_patterns = np.array([a_out_pattern, b_out_pattern, c_out_pattern])\n",
        "bam_net = BamNetwork(input_patterns, output_patterns)\n",
        "\n",
        "print(bam_net.weights)"
      ],
      "execution_count": 42,
      "outputs": [
        {
          "output_type": "stream",
          "text": [
            "[[ 1. -1.  3.]\n",
            " [-3. -1. -1.]\n",
            " [ 1.  3. -1.]\n",
            " [-3. -1. -1.]\n",
            " [ 3.  1.  1.]\n",
            " [-1. -3.  1.]\n",
            " [-3. -1. -1.]\n",
            " [-1. -3.  1.]\n",
            " [ 1. -1. -1.]\n",
            " [-3. -1. -1.]\n",
            " [ 3.  1.  1.]\n",
            " [-1. -3.  1.]\n",
            " [-1. -3.  1.]\n",
            " [-1.  1.  1.]\n",
            " [-1.  1. -3.]]\n"
          ],
          "name": "stdout"
        }
      ]
    },
    {
      "cell_type": "markdown",
      "metadata": {
        "id": "oIohGse5yqVA"
      },
      "source": [
        "### Test network ability"
      ]
    },
    {
      "cell_type": "code",
      "metadata": {
        "colab": {
          "base_uri": "https://localhost:8080/"
        },
        "id": "p6hgu9Aeyp3e",
        "outputId": "621e0216-d277-4576-f7ed-88a9a248884c"
      },
      "source": [
        "a_x_result, a_y_result, found = bam_net.predict(a_in_pattern)\n",
        "show_result(a_x_result)\n",
        "print(a_y_result)\n",
        "print(\"*************\")\n",
        "b_x_result, b_y_result, found = bam_net.predict(b_in_pattern)\n",
        "show_result(b_x_result)\n",
        "print(b_y_result)\n",
        "print(\"*************\")\n",
        "c_x_result, c_y_result, found = bam_net.predict(c_in_pattern)\n",
        "show_result(c_x_result)\n",
        "print(c_y_result)\n",
        "print(\"*************\")\n",
        "a_x_result, a_y_result, found = bam_net.predict(a_out_pattern, is_x=False)\n",
        "show_result(a_x_result)\n",
        "print(a_y_result)\n",
        "print(\"*************\")\n",
        "b_x_result, b_y_result, found = bam_net.predict(b_out_pattern, is_x=False)\n",
        "show_result(b_x_result)\n",
        "print(b_y_result)\n",
        "print(\"*************\")\n",
        "c_x_result, c_y_result, found = bam_net.predict(c_out_pattern, is_x=False)\n",
        "show_result(c_x_result)\n",
        "print(c_y_result)\n",
        "print(\"*************\")"
      ],
      "execution_count": 43,
      "outputs": [
        {
          "output_type": "stream",
          "text": [
            "I remember =))\n",
            "-#-\n",
            "#-#\n",
            "###\n",
            "#-#\n",
            "#-#\n",
            "___________________________\n",
            "[-1 -1 -1]\n",
            "*************\n",
            "I remember =))\n",
            "##-\n",
            "#-#\n",
            "##-\n",
            "#-#\n",
            "##-\n",
            "___________________________\n",
            "[-1 -1  1]\n",
            "*************\n",
            "I remember =))\n",
            "-##\n",
            "#--\n",
            "#--\n",
            "#--\n",
            "-##\n",
            "___________________________\n",
            "[-1  1 -1]\n",
            "*************\n",
            "I remember =))\n",
            "-#-\n",
            "#-#\n",
            "###\n",
            "#-#\n",
            "#-#\n",
            "___________________________\n",
            "[-1 -1 -1]\n",
            "*************\n",
            "I remember =))\n",
            "##-\n",
            "#-#\n",
            "##-\n",
            "#-#\n",
            "##-\n",
            "___________________________\n",
            "[-1 -1  1]\n",
            "*************\n",
            "I remember =))\n",
            "-##\n",
            "#--\n",
            "#--\n",
            "#--\n",
            "-##\n",
            "___________________________\n",
            "[-1  1 -1]\n",
            "*************\n"
          ],
          "name": "stdout"
        }
      ]
    },
    {
      "cell_type": "markdown",
      "metadata": {
        "id": "KZbtnqG41z4i"
      },
      "source": [
        "## Add noise and test network robustness"
      ]
    },
    {
      "cell_type": "markdown",
      "metadata": {
        "id": "VkmsJq0015ct"
      },
      "source": [
        "### Add noise function"
      ]
    },
    {
      "cell_type": "code",
      "metadata": {
        "id": "akrL1juPyhaU"
      },
      "source": [
        "def add_noise(pattern, noise_percentage=0.3):\n",
        "  noisy_pattern = np.copy(pattern)\n",
        "  pattern_cells = len(pattern.flatten())\n",
        "  mistaken_cells_count = math.floor(noise_percentage * pattern_cells)\n",
        "  to_change_indices = random.sample(range(pattern_cells), mistaken_cells_count)\n",
        "  for index in to_change_indices:\n",
        "    to_change_row = index // noisy_pattern.shape[1]\n",
        "    to_change_col = index % noisy_pattern.shape[1]\n",
        "    noisy_pattern[to_change_row][to_change_col] *= -1\n",
        "  return noisy_pattern"
      ],
      "execution_count": 44,
      "outputs": []
    },
    {
      "cell_type": "markdown",
      "metadata": {
        "id": "IcGe88202WJb"
      },
      "source": [
        "### Test network"
      ]
    },
    {
      "cell_type": "code",
      "metadata": {
        "colab": {
          "base_uri": "https://localhost:8080/"
        },
        "id": "twPAzVO52U7v",
        "outputId": "151e7b3f-b099-424d-d848-314dc87183d2"
      },
      "source": [
        "ten_noisy_a = add_noise(a_in_pattern, 0.1)\n",
        "a_x_result, a_y_result, found = bam_net.predict(ten_noisy_a)\n",
        "show_result(a_x_result)\n",
        "print(a_y_result)\n",
        "print(\"*************\")\n",
        "ten_noisy_b = add_noise(b_in_pattern, 0.1)\n",
        "b_x_result, b_y_result, found = bam_net.predict(ten_noisy_b)\n",
        "show_result(b_x_result)\n",
        "print(b_y_result)\n",
        "print(\"*************\")\n",
        "ten_noisy_c = add_noise(c_in_pattern, 0.1)\n",
        "c_x_result, c_y_result, found = bam_net.predict(ten_noisy_c)\n",
        "show_result(c_x_result)\n",
        "print(c_y_result)\n",
        "print(\"*************\")\n",
        "\n",
        "fourty_noisy_a = add_noise(a_in_pattern, 0.4)\n",
        "a_x_result, a_y_result, found = bam_net.predict(fourty_noisy_a)\n",
        "show_result(a_x_result)\n",
        "print(a_y_result)\n",
        "print(\"*************\")\n",
        "fourty_noisy_b = add_noise(b_in_pattern, 0.4)\n",
        "b_x_result, b_y_result, found = bam_net.predict(fourty_noisy_b)\n",
        "show_result(b_x_result)\n",
        "print(b_y_result)\n",
        "print(\"*************\")\n",
        "fourty_noisy_c = add_noise(c_in_pattern, 0.4)\n",
        "c_x_result, c_y_result, found = bam_net.predict(fourty_noisy_c)\n",
        "show_result(c_x_result)\n",
        "print(c_y_result)\n",
        "print(\"*************\")"
      ],
      "execution_count": 45,
      "outputs": [
        {
          "output_type": "stream",
          "text": [
            "I remember =))\n",
            "-#-\n",
            "#-#\n",
            "###\n",
            "#-#\n",
            "#-#\n",
            "___________________________\n",
            "[-1 -1 -1]\n",
            "*************\n",
            "I remember =))\n",
            "##-\n",
            "#-#\n",
            "##-\n",
            "#-#\n",
            "##-\n",
            "___________________________\n",
            "[-1 -1  1]\n",
            "*************\n",
            "I remember =))\n",
            "-##\n",
            "#--\n",
            "#--\n",
            "#--\n",
            "-##\n",
            "___________________________\n",
            "[-1  1 -1]\n",
            "*************\n",
            "I remember =))\n",
            "-#-\n",
            "#-#\n",
            "###\n",
            "#-#\n",
            "#-#\n",
            "___________________________\n",
            "[-1 -1 -1]\n",
            "*************\n",
            "I remember =))\n",
            "-#-\n",
            "#-#\n",
            "###\n",
            "#-#\n",
            "#-#\n",
            "___________________________\n",
            "[-1 -1 -1]\n",
            "*************\n",
            "I remember =))\n",
            "-#-\n",
            "#-#\n",
            "###\n",
            "#-#\n",
            "#-#\n",
            "___________________________\n",
            "[-1 -1 -1]\n",
            "*************\n"
          ],
          "name": "stdout"
        }
      ]
    },
    {
      "cell_type": "code",
      "metadata": {
        "colab": {
          "base_uri": "https://localhost:8080/"
        },
        "id": "7CuqP_n72tDP",
        "outputId": "3ca403da-b072-43f4-b546-35cace34422b"
      },
      "source": [
        "a_correct = 0\n",
        "b_correct = 0\n",
        "c_correct = 0\n",
        "\n",
        "for _ in range(100):\n",
        "  ten_noisy_a = add_noise(a_in_pattern, 0.1)\n",
        "  a_x_result, a_y_result, found = bam_net.predict(ten_noisy_a, verbose=False)\n",
        "  if (a_y_result == a_out_pattern).all():\n",
        "    a_correct += 1\n",
        "\n",
        "  ten_noisy_b = add_noise(b_in_pattern, 0.1)\n",
        "  b_x_result, b_y_result, found = bam_net.predict(ten_noisy_b, verbose=False)\n",
        "  if (b_y_result == b_out_pattern).all():\n",
        "    b_correct += 1\n",
        "\n",
        "  ten_noisy_c = add_noise(c_in_pattern, 0.1)\n",
        "  c_x_result, c_y_result, found = bam_net.predict(ten_noisy_c, verbose=False)\n",
        "  if (c_y_result == c_out_pattern).all():\n",
        "    c_correct += 1\n",
        "print(\"Ten percent noise accuracy:\")\n",
        "print(\"A: {} - B: {} - C: {}\".format(a_correct, b_correct, c_correct))"
      ],
      "execution_count": 48,
      "outputs": [
        {
          "output_type": "stream",
          "text": [
            "Ten percent noise accuracy:\n",
            "A: 100 - B: 100 - C: 100\n"
          ],
          "name": "stdout"
        }
      ]
    },
    {
      "cell_type": "markdown",
      "metadata": {
        "id": "NGJ6YUJP3-RP"
      },
      "source": [
        "## Test (0, -1, -1) output"
      ]
    },
    {
      "cell_type": "code",
      "metadata": {
        "colab": {
          "base_uri": "https://localhost:8080/"
        },
        "id": "iMe3w9Uf3ZFG",
        "outputId": "fc279fd4-8150-4cf3-a842-391d7b870d61"
      },
      "source": [
        "pattern = np.array([0, -1, -1])\n",
        "x_result, y_result, found = bam_net.predict(pattern, is_x=False)\n",
        "show_result(x_result)\n",
        "print(y_result)\n",
        "print(\"*************\")"
      ],
      "execution_count": 50,
      "outputs": [
        {
          "output_type": "stream",
          "text": [
            "I remember =))\n",
            "-#-\n",
            "#-#\n",
            "###\n",
            "#-#\n",
            "#-#\n",
            "___________________________\n",
            "[-1 -1 -1]\n",
            "*************\n"
          ],
          "name": "stdout"
        }
      ]
    },
    {
      "cell_type": "markdown",
      "metadata": {
        "id": "ebfC1gn34ewg"
      },
      "source": [
        "## Other charcters test"
      ]
    },
    {
      "cell_type": "code",
      "metadata": {
        "colab": {
          "base_uri": "https://localhost:8080/"
        },
        "id": "gzTXmq224On8",
        "outputId": "21c2e11e-fd6e-4737-e366-063acf467743"
      },
      "source": [
        "d_in_pattern = np.array([ [1, 1,-1],\n",
        "                          [1,-1, 1],\n",
        "                          [1,-1, 1],\n",
        "                          [1,-1, 1],\n",
        "                          [1, 1,-1]])\n",
        "e_in_pattern = np.array([ [1, 1, 1],\n",
        "                          [1,-1,-1],\n",
        "                          [1, 1,-1],\n",
        "                          [1,-1,-1],\n",
        "                          [1, 1, 1]])\n",
        "f_in_pattern = np.array([ [1, 1, 1],\n",
        "                          [1,-1,-1],\n",
        "                          [1, 1,-1],\n",
        "                          [1,-1,-1],\n",
        "                          [1,-1,-1]])\n",
        "g_in_pattern = np.array([ [-1, 1, 1],\n",
        "                          [ 1,-1,-1],\n",
        "                          [ 1,-1, 1],\n",
        "                          [ 1,-1, 1],\n",
        "                          [-1, 1, 1]])\n",
        "h_in_pattern = np.array([ [ 1,-1, 1],\n",
        "                          [ 1,-1, 1],\n",
        "                          [ 1, 1, 1],\n",
        "                          [ 1,-1, 1],\n",
        "                          [ 1,-1, 1]])\n",
        "\n",
        "d_out_pattern = np.array([-1, 1, 1])\n",
        "e_out_pattern = np.array([ 1,-1,-1])\n",
        "f_out_pattern = np.array([ 1,-1, 1])\n",
        "g_out_pattern = np.array([ 1, 1,-1])\n",
        "h_out_pattern = np.array([ 1, 1, 1])\n",
        "\n",
        "input_patterns = np.array([a_in_pattern, b_in_pattern, c_in_pattern, d_in_pattern, e_in_pattern, f_in_pattern, g_in_pattern, h_in_pattern])\n",
        "output_patterns = np.array([a_out_pattern, b_out_pattern, c_out_pattern, d_out_pattern, e_out_pattern, f_out_pattern, g_out_pattern, h_out_pattern])\n",
        "bam_net2 = BamNetwork(input_patterns, output_patterns)\n",
        "\n",
        "print(bam_net2.weights)"
      ],
      "execution_count": 54,
      "outputs": [
        {
          "output_type": "stream",
          "text": [
            "[[ 2. -2.  6.]\n",
            " [-2. -2. -2.]\n",
            " [ 6.  2. -2.]\n",
            " [ 0.  0.  0.]\n",
            " [ 0.  0.  0.]\n",
            " [-4.  0.  4.]\n",
            " [ 0.  0.  0.]\n",
            " [ 2. -6.  2.]\n",
            " [ 0.  4.  0.]\n",
            " [ 0.  0.  0.]\n",
            " [ 0.  0.  0.]\n",
            " [-2.  2.  2.]\n",
            " [ 0. -4.  4.]\n",
            " [-2.  2. -2.]\n",
            " [ 2.  2. -6.]]\n"
          ],
          "name": "stdout"
        }
      ]
    },
    {
      "cell_type": "markdown",
      "metadata": {
        "id": "Dp3pltWr6IPv"
      },
      "source": [
        "## Test extended network"
      ]
    },
    {
      "cell_type": "code",
      "metadata": {
        "colab": {
          "base_uri": "https://localhost:8080/"
        },
        "id": "0mJ3vuIs5jfA",
        "outputId": "a3f2e741-e426-4869-d61c-9f6bdab43234"
      },
      "source": [
        "a_x_result, a_y_result, found = bam_net2.predict(a_in_pattern)\n",
        "show_result(a_x_result)\n",
        "print(a_y_result)\n",
        "print(\"*************\")\n",
        "b_x_result, b_y_result, found = bam_net2.predict(b_in_pattern)\n",
        "show_result(b_x_result)\n",
        "print(b_y_result)\n",
        "print(\"*************\")\n",
        "c_x_result, c_y_result, found = bam_net2.predict(c_in_pattern)\n",
        "show_result(c_x_result)\n",
        "print(c_y_result)\n",
        "print(\"*************\")\n",
        "a_x_result, a_y_result, found = bam_net2.predict(a_out_pattern, is_x=False)\n",
        "show_result(a_x_result)\n",
        "print(a_y_result)\n",
        "print(\"*************\")\n",
        "b_x_result, b_y_result, found = bam_net2.predict(b_out_pattern, is_x=False)\n",
        "show_result(b_x_result)\n",
        "print(b_y_result)\n",
        "print(\"*************\")\n",
        "c_x_result, c_y_result, found = bam_net2.predict(c_out_pattern, is_x=False)\n",
        "show_result(c_x_result)\n",
        "print(c_y_result)\n",
        "print(\"*************\")"
      ],
      "execution_count": 55,
      "outputs": [
        {
          "output_type": "stream",
          "text": [
            "See old pattern... No memory :(\n",
            "##-\n",
            "--#\n",
            "-#-\n",
            "--#\n",
            "#--\n",
            "___________________________\n",
            "[-1. -1.  1.]\n",
            "*************\n",
            "See old pattern... No memory :(\n",
            "##-\n",
            "--#\n",
            "-#-\n",
            "--#\n",
            "#--\n",
            "___________________________\n",
            "[-1. -1.  1.]\n",
            "*************\n",
            "See old pattern... No memory :(\n",
            "--#\n",
            "---\n",
            "--#\n",
            "---\n",
            "-##\n",
            "___________________________\n",
            "[ 1.  1. -1.]\n",
            "*************\n",
            "See old pattern... No memory :(\n",
            "-#-\n",
            "---\n",
            "-#-\n",
            "---\n",
            "-##\n",
            "___________________________\n",
            "[-1. -1. -1.]\n",
            "*************\n",
            "See old pattern... No memory :(\n",
            "##-\n",
            "--#\n",
            "-#-\n",
            "--#\n",
            "#--\n",
            "___________________________\n",
            "[-1. -1.  1.]\n",
            "*************\n",
            "See old pattern... No memory :(\n",
            "-#-\n",
            "---\n",
            "--#\n",
            "--#\n",
            "-##\n",
            "___________________________\n",
            "[-1.  1. -1.]\n",
            "*************\n"
          ],
          "name": "stdout"
        }
      ]
    },
    {
      "cell_type": "markdown",
      "metadata": {
        "id": "RPxW2H6c6WWw"
      },
      "source": [
        "## Calculate hamming distances"
      ]
    },
    {
      "cell_type": "markdown",
      "metadata": {
        "id": "CsQeOVoQ6Uug"
      },
      "source": [
        "### Hamming distance funciton"
      ]
    },
    {
      "cell_type": "code",
      "metadata": {
        "id": "lN-Cc9uU6OsV"
      },
      "source": [
        "def hamming_distance(pattern_1, pattern_2):\n",
        "  return np.count_nonzero(pattern_1 != pattern_2)"
      ],
      "execution_count": 56,
      "outputs": []
    },
    {
      "cell_type": "markdown",
      "metadata": {
        "id": "_7B1xXsH6bSQ"
      },
      "source": [
        "### See results"
      ]
    },
    {
      "cell_type": "code",
      "metadata": {
        "colab": {
          "base_uri": "https://localhost:8080/"
        },
        "id": "yGrHH6tA6Zx1",
        "outputId": "d678f5e3-c936-4f81-b14e-bd3a9eb0c869"
      },
      "source": [
        "words = ['A', 'B', 'C', 'D', 'E', 'F', 'G', 'H']\n",
        "print(\"Hamming distances:\")\n",
        "for i in range(len(input_patterns)):\n",
        "  for j in range(i+1, len(input_patterns)):\n",
        "    pattern_1 = input_patterns[i]\n",
        "    pattern_2 = input_patterns[j]\n",
        "    hamming_d = hamming_distance(pattern_1, pattern_2)\n",
        "    print(\"{} - {}: {}\".format(words[i], words[j], hamming_d))"
      ],
      "execution_count": 60,
      "outputs": [
        {
          "output_type": "stream",
          "text": [
            "Hamming distances:\n",
            "A - B: 4\n",
            "A - C: 7\n",
            "A - D: 4\n",
            "A - E: 6\n",
            "A - F: 6\n",
            "A - G: 5\n",
            "A - H: 3\n",
            "B - C: 7\n",
            "B - D: 2\n",
            "B - E: 4\n",
            "B - F: 4\n",
            "B - G: 7\n",
            "B - H: 5\n",
            "C - D: 7\n",
            "C - E: 3\n",
            "C - F: 5\n",
            "C - G: 2\n",
            "C - H: 8\n",
            "D - E: 6\n",
            "D - F: 6\n",
            "D - G: 5\n",
            "D - H: 5\n",
            "E - F: 2\n",
            "E - G: 5\n",
            "E - H: 5\n",
            "F - G: 7\n",
            "F - H: 5\n",
            "G - H: 6\n"
          ],
          "name": "stdout"
        }
      ]
    }
  ]
}